{
 "cells": [
  {
   "cell_type": "markdown",
   "id": "4170a013",
   "metadata": {},
   "source": [
    "1. What is a Python library? Why ^o we use Python libraries?"
   ]
  },
  {
   "cell_type": "markdown",
   "id": "adb346bf",
   "metadata": {},
   "source": [
    "A Python library is a collection of pre-written code and functionalities that can be used by developers to perform common tasks without having to write the code from scratch. These libraries provide reusable modules and functions that can be easily imported and used in Python programs.\n",
    "\n",
    "Python libraries serve several purposes:\n",
    "\n",
    "Code Reusability: Libraries contain pre-written code that can be reused in different projects, saving time and effort. Developers can leverage the work of others to avoid reinventing the wheel.\n",
    "\n",
    "Efficiency: Libraries are often optimized for performance and correctness. By using established libraries, developers can benefit from well-tested and efficient code, leading to faster development cycles.\n",
    "\n",
    "Specialized Functionality: Many libraries are designed to provide specialized functionality in specific domains, such as data science, machine learning, web development, graphics, networking, and more. This allows developers to focus on solving higher-level problems without delving into the details of low-level implementation.\n",
    "\n",
    "Community Collaboration: Python has a vibrant and active community that contributes to the development of various libraries. This collaborative effort leads to the creation of powerful tools and resources that can be freely shared and utilized by the community.\n",
    "\n",
    "Standardization: Python libraries often adhere to standard conventions and coding practices. This helps in creating a consistent and standardized approach to solving common problems, promoting a more unified development ecosystem.\n",
    "\n",
    "Popular Python libraries include NumPy for numerical computing, Pandas for data manipulation and analysis, TensorFlow and PyTorch for machine learning, Flask and Django for web development, Matplotlib and Seaborn for data visualization, and many more.\n",
    "\n",
    "In summary, Python libraries enhance the capabilities of the language by providing pre-built solutions for various tasks, promoting code reuse, and fostering a collaborative and efficient development environment."
   ]
  },
  {
   "cell_type": "markdown",
   "id": "6af8be3a",
   "metadata": {},
   "source": [
    "2. What is the difference between Numpy array and List?"
   ]
  },
  {
   "cell_type": "markdown",
   "id": "fff3bdeb",
   "metadata": {},
   "source": [
    "NumPy arrays and Python lists are both used to store collections of items, but there are several key differences between them. Here are some of the main distinctions:\n",
    "\n",
    "Data Type:\n",
    "\n",
    "List: Python lists can contain elements of different data types. You can have a mix of integers, floats, strings, or even other lists within a single list.\n",
    "NumPy Array: NumPy arrays are homogeneous, meaning all elements must be of the same data type. This uniformity allows for more efficient storage and operations on the array.\n",
    "Performance:\n",
    "\n",
    "List: Lists are more flexible but may be less efficient for numerical operations. Python lists are not optimized for numerical computations and lack built-in support for array operations.\n",
    "NumPy Array: NumPy arrays are designed for numerical and scientific computations. They are implemented in C and allow for vectorized operations, making them significantly faster for numerical tasks compared to Python lists.\n",
    "Memory Efficiency:\n",
    "\n",
    "List: Lists are generally less memory-efficient compared to NumPy arrays due to their flexibility and overhead.\n",
    "NumPy Array: NumPy arrays are more memory-efficient as they store data in contiguous blocks of memory and have a fixed, homogeneous data type.\n",
    "Syntax and Ease of Use:\n",
    "\n",
    "List: Lists are more versatile and have a more straightforward syntax. They are easy to work with for general-purpose tasks and do not require additional libraries.\n",
    "NumPy Array: NumPy arrays require the NumPy library, and their syntax might be a bit more complex for beginners. However, they provide powerful tools for numerical operations.\n",
    "Functionality:\n",
    "\n",
    "List: Lists offer a broad range of general-purpose methods and functionalities.\n",
    "NumPy Array: NumPy arrays provide specialized functions for mathematical and statistical operations, making them more suitable for scientific computing and data manipulation."
   ]
  },
  {
   "cell_type": "code",
   "execution_count": 2,
   "id": "980c0178",
   "metadata": {},
   "outputs": [
    {
     "name": "stdout",
     "output_type": "stream",
     "text": [
      "[1, 2, 3, 4, 5, 6, 7, 8]\n",
      "[2 3 4 5 6]\n"
     ]
    }
   ],
   "source": [
    "#example\n",
    "# Using Python lists\n",
    "python_list = [1, 2, 3, 4, 5]\n",
    "python_list += [6, 7, 8]\n",
    "print(python_list)\n",
    "\n",
    "# Using NumPy arrays\n",
    "import numpy as np\n",
    "numpy_array = np.array([1, 2, 3, 4, 5])\n",
    "numpy_array += 1\n",
    "print(numpy_array)"
   ]
  },
  {
   "cell_type": "markdown",
   "id": "836da5d4",
   "metadata": {},
   "source": [
    "3. Find the shape, size and dimension of the following array?\n",
    "[[1, 2, 3, 4]\n",
    "[5, 6, 7, 8],\n",
    "[9, 10, 11, 12]]"
   ]
  },
  {
   "cell_type": "code",
   "execution_count": 3,
   "id": "c2a102c4",
   "metadata": {},
   "outputs": [
    {
     "name": "stdout",
     "output_type": "stream",
     "text": [
      "Shape of the array: (3, 4)\n",
      "Size of the array: 12\n",
      "Dimension of the array: 2\n"
     ]
    }
   ],
   "source": [
    "import numpy as np\n",
    "\n",
    "# Given array\n",
    "my_array = np.array([[1, 2, 3, 4],\n",
    "                    [5, 6, 7, 8],\n",
    "                    [9, 10, 11, 12]])\n",
    "\n",
    "# Shape\n",
    "shape_of_array = my_array.shape\n",
    "\n",
    "# Size\n",
    "size_of_array = my_array.size\n",
    "\n",
    "# Dimension\n",
    "dimension_of_array = my_array.ndim\n",
    "\n",
    "# Printing the results\n",
    "print(\"Shape of the array:\", shape_of_array)\n",
    "print(\"Size of the array:\", size_of_array)\n",
    "print(\"Dimension of the array:\", dimension_of_array)\n"
   ]
  },
  {
   "cell_type": "markdown",
   "id": "b3c5d43c",
   "metadata": {},
   "source": [
    "4. Write python code to access the first row of the following array?\n",
    "[[1, 2, 3, 4]\n",
    "[5, 6, 7, 8],\n",
    "[9, 10, 11, 12]]"
   ]
  },
  {
   "cell_type": "code",
   "execution_count": 4,
   "id": "bdf0cb15",
   "metadata": {},
   "outputs": [
    {
     "name": "stdout",
     "output_type": "stream",
     "text": [
      "First row of the array: [1 2 3 4]\n"
     ]
    }
   ],
   "source": [
    "import numpy as np\n",
    "\n",
    "# Given array\n",
    "my_array = np.array([[1, 2, 3, 4],\n",
    "                    [5, 6, 7, 8],\n",
    "                    [9, 10, 11, 12]])\n",
    "\n",
    "# Accessing the first row\n",
    "first_row = my_array[0]\n",
    "\n",
    "# Printing the result\n",
    "print(\"First row of the array:\", first_row)\n"
   ]
  },
  {
   "cell_type": "markdown",
   "id": "bfd75229",
   "metadata": {},
   "source": [
    "5. How do you access the element at the third row and fourth column from the given numpy array?\n",
    "[[1, 2, 3, 4]\n",
    "[5, 6, 7, 8],\n",
    "[9, 10, 11, 12]]"
   ]
  },
  {
   "cell_type": "code",
   "execution_count": 5,
   "id": "3770c1e4",
   "metadata": {},
   "outputs": [
    {
     "name": "stdout",
     "output_type": "stream",
     "text": [
      "Element at the third row and fourth column: 12\n"
     ]
    }
   ],
   "source": [
    "import numpy as np\n",
    "\n",
    "# Given array\n",
    "my_array = np.array([[1, 2, 3, 4],\n",
    "                    [5, 6, 7, 8],\n",
    "                    [9, 10, 11, 12]])\n",
    "\n",
    "# Accessing the element at the third row and fourth column\n",
    "element = my_array[2, 3]\n",
    "\n",
    "# Printing the result\n",
    "print(\"Element at the third row and fourth column:\", element)\n"
   ]
  },
  {
   "cell_type": "markdown",
   "id": "3d6d241f",
   "metadata": {},
   "source": [
    "6. Write code to extract all odd-indexed elements from the given numpy array?\n",
    "[[1, 2, 3, 4]\n",
    "[5, 6, 7, 8],\n",
    "[9, 10, 11, 12]]"
   ]
  },
  {
   "cell_type": "code",
   "execution_count": 6,
   "id": "d315cc1e",
   "metadata": {},
   "outputs": [
    {
     "name": "stdout",
     "output_type": "stream",
     "text": [
      "Odd-indexed elements from the array:\n",
      "[[ 2  4]\n",
      " [ 6  8]\n",
      " [10 12]]\n"
     ]
    }
   ],
   "source": [
    "import numpy as np\n",
    "\n",
    "# Given array\n",
    "my_array = np.array([[1, 2, 3, 4],\n",
    "                    [5, 6, 7, 8],\n",
    "                    [9, 10, 11, 12]])\n",
    "\n",
    "# Extracting all odd-indexed elements\n",
    "odd_indexed_elements = my_array[:, 1::2]\n",
    "\n",
    "# Printing the result\n",
    "print(\"Odd-indexed elements from the array:\")\n",
    "print(odd_indexed_elements)\n"
   ]
  },
  {
   "cell_type": "markdown",
   "id": "854c21df",
   "metadata": {},
   "source": [
    "7. How can you generate a random 3x3 matrix with values between 0 and 1?"
   ]
  },
  {
   "cell_type": "code",
   "execution_count": 7,
   "id": "669bef1d",
   "metadata": {},
   "outputs": [
    {
     "name": "stdout",
     "output_type": "stream",
     "text": [
      "Random 3x3 matrix:\n",
      "[[0.96470993 0.22879139 0.53235495]\n",
      " [0.53437031 0.87783424 0.37144811]\n",
      " [0.04857062 0.84105628 0.22709546]]\n"
     ]
    }
   ],
   "source": [
    "import numpy as np\n",
    "\n",
    "# Generate a random 3x3 matrix with values between 0 and 1\n",
    "random_matrix = np.random.rand(3, 3)\n",
    "\n",
    "# Print the generated matrix\n",
    "print(\"Random 3x3 matrix:\")\n",
    "print(random_matrix)"
   ]
  },
  {
   "cell_type": "markdown",
   "id": "63ff64b3",
   "metadata": {},
   "source": [
    "8. Describe the difference between np.random.rand and np.random.randn?"
   ]
  },
  {
   "cell_type": "code",
   "execution_count": null,
   "id": "3c7de9d2",
   "metadata": {},
   "outputs": [],
   "source": [
    "np.random.rand:\n",
    "\n",
    "This function generates random numbers from a uniform distribution over the interval [0, 1).\n",
    "The numbers produced are in the half-open interval [0, 1), meaning that 0 is included, but 1 is excluded.\n",
    "It takes dimensions as arguments and returns an array of random values with the specified shape.\n",
    "Example:\n",
    "import numpy as np\n",
    "# Generate a 2x2 matrix with random values between 0 and 1\n",
    "random_matrix = np.random.rand(2, 2)\n",
    "print(random_matrix)\n",
    "                                                    \n",
    "np.random.randn:\n",
    "\n",
    "This function generates random numbers from a standard normal distribution (mean=0, standard deviation=1).\n",
    "The numbers produced follow a Gaussian distribution (bell-shaped curve) with a mean of 0 and a standard deviation of 1.\n",
    "It also takes dimensions as arguments and returns an array of random values with the specified shape.\n",
    "Example:\n",
    "\n",
    "import numpy as np\n",
    "\n",
    "# Generate a 2x2 matrix with random values from a standard normal distribution\n",
    "random_matrix = np.random.randn(2, 2)\n",
    "print(random_matrix)"
   ]
  },
  {
   "cell_type": "markdown",
   "id": "f646f84d",
   "metadata": {},
   "source": [
    "9. Write code to increase the dimension of the following array?\n",
    "[[1, 2, 3, 4]\n",
    "[5, 6, 7, 8],\n",
    "[9, 10, 11, 12]]"
   ]
  },
  {
   "cell_type": "code",
   "execution_count": 8,
   "id": "9b1b4248",
   "metadata": {},
   "outputs": [
    {
     "name": "stdout",
     "output_type": "stream",
     "text": [
      "Original Array:\n",
      "[[ 1  2  3  4]\n",
      " [ 5  6  7  8]\n",
      " [ 9 10 11 12]]\n",
      "\n",
      "Array with Increased Dimension:\n",
      "[[[ 1]\n",
      "  [ 2]\n",
      "  [ 3]\n",
      "  [ 4]]\n",
      "\n",
      " [[ 5]\n",
      "  [ 6]\n",
      "  [ 7]\n",
      "  [ 8]]\n",
      "\n",
      " [[ 9]\n",
      "  [10]\n",
      "  [11]\n",
      "  [12]]]\n"
     ]
    }
   ],
   "source": [
    "import numpy as np\n",
    "\n",
    "# Given array\n",
    "original_array = np.array([[1, 2, 3, 4],\n",
    "                           [5, 6, 7, 8],\n",
    "                           [9, 10, 11, 12]])\n",
    "\n",
    "# Increase the dimension along a new axis\n",
    "new_dimension_array = original_array[:, :, np.newaxis]\n",
    "\n",
    "# Print the original and new dimension arrays\n",
    "print(\"Original Array:\")\n",
    "print(original_array)\n",
    "\n",
    "print(\"\\nArray with Increased Dimension:\")\n",
    "print(new_dimension_array)\n"
   ]
  },
  {
   "cell_type": "code",
   "execution_count": 9,
   "id": "5463f131",
   "metadata": {},
   "outputs": [
    {
     "name": "stdout",
     "output_type": "stream",
     "text": [
      "Original Array:\n",
      "[[ 1  2  3  4]\n",
      " [ 5  6  7  8]\n",
      " [ 9 10 11 12]]\n",
      "\n",
      "Array with Increased Dimension:\n",
      "[[[ 1]\n",
      "  [ 2]\n",
      "  [ 3]\n",
      "  [ 4]]\n",
      "\n",
      " [[ 5]\n",
      "  [ 6]\n",
      "  [ 7]\n",
      "  [ 8]]\n",
      "\n",
      " [[ 9]\n",
      "  [10]\n",
      "  [11]\n",
      "  [12]]]\n"
     ]
    }
   ],
   "source": [
    "import numpy as np\n",
    "\n",
    "# Given array\n",
    "original_array = np.array([[1, 2, 3, 4],\n",
    "                           [5, 6, 7, 8],\n",
    "                           [9, 10, 11, 12]])\n",
    "\n",
    "# Increase the dimension along a new axis using np.expand_dims\n",
    "new_dimension_array = np.expand_dims(original_array, axis=2)\n",
    "\n",
    "# Print the original and new dimension arrays\n",
    "print(\"Original Array:\")\n",
    "print(original_array)\n",
    "\n",
    "print(\"\\nArray with Increased Dimension:\")\n",
    "print(new_dimension_array)\n"
   ]
  },
  {
   "cell_type": "markdown",
   "id": "c371260a",
   "metadata": {},
   "source": [
    "10. How to transpose the following array in NumPy?\n",
    "[[1, 2, 3, 4]\n",
    "[5, 6, 7, 8],\n",
    "[9, 10, 11, 12]]"
   ]
  },
  {
   "cell_type": "code",
   "execution_count": 10,
   "id": "9ab2cf25",
   "metadata": {},
   "outputs": [
    {
     "name": "stdout",
     "output_type": "stream",
     "text": [
      "Original Array:\n",
      "[[ 1  2  3  4]\n",
      " [ 5  6  7  8]\n",
      " [ 9 10 11 12]]\n",
      "\n",
      "Transposed Array:\n",
      "[[ 1  5  9]\n",
      " [ 2  6 10]\n",
      " [ 3  7 11]\n",
      " [ 4  8 12]]\n"
     ]
    }
   ],
   "source": [
    "import numpy as np\n",
    "\n",
    "# Given array\n",
    "original_array = np.array([[1, 2, 3, 4],\n",
    "                           [5, 6, 7, 8],\n",
    "                           [9, 10, 11, 12]])\n",
    "\n",
    "# Transpose the array using .T\n",
    "transposed_array = original_array.T\n",
    "\n",
    "# Alternatively, you can use np.transpose()\n",
    "# transposed_array = np.transpose(original_array)\n",
    "\n",
    "# Print the original and transposed arrays\n",
    "print(\"Original Array:\")\n",
    "print(original_array)\n",
    "\n",
    "print(\"\\nTransposed Array:\")\n",
    "print(transposed_array)\n"
   ]
  },
  {
   "cell_type": "markdown",
   "id": "dbacd1c1",
   "metadata": {},
   "source": [
    "11. Consider the following matrix:\n",
    "Matrix A2 [[1, 2, 3, 4] [5, 6, 7, 8],[9, 10, 11, 12]]\n",
    "Matrix B2 [[1, 2, 3, 4] [5, 6, 7, 8],[9, 10, 11, 12]]\n",
    "Perform the following operation using Python1\n",
    "Perform the following operation using Python1\n",
    "Index wiLe multiplicatio'\n",
    " Matix multiplicatio'\n",
    " Add both the maticK\n",
    "Subtact matix B om \n",
    "Divide Matix B by A"
   ]
  },
  {
   "cell_type": "code",
   "execution_count": 12,
   "id": "fe4dc67d",
   "metadata": {},
   "outputs": [
    {
     "name": "stdout",
     "output_type": "stream",
     "text": [
      "Matrix Multiplication Result:\n",
      "[[ 30  70 110]\n",
      " [ 70 174 278]\n",
      " [110 278 446]]\n"
     ]
    }
   ],
   "source": [
    "#Matrix Multiplication (Dot Product):\n",
    "import numpy as np\n",
    "\n",
    "# Define matrices A and B\n",
    "A = np.array([[1, 2, 3, 4], [5, 6, 7, 8], [9, 10, 11, 12]])\n",
    "B = np.array([[1, 2, 3, 4], [5, 6, 7, 8], [9, 10, 11, 12]])\n",
    "\n",
    "# Matrix multiplication (dot product)\n",
    "matrix_multiplication_result = np.dot(A, B.T)  # Transpose of B is used for proper dimensions\n",
    "\n",
    "print(\"Matrix Multiplication Result:\")\n",
    "print(matrix_multiplication_result)\n"
   ]
  },
  {
   "cell_type": "code",
   "execution_count": 13,
   "id": "90dad102",
   "metadata": {},
   "outputs": [
    {
     "name": "stdout",
     "output_type": "stream",
     "text": [
      "\n",
      "Matrix Addition Result:\n",
      "[[ 2  4  6  8]\n",
      " [10 12 14 16]\n",
      " [18 20 22 24]]\n"
     ]
    }
   ],
   "source": [
    "#Matrix Addition:\n",
    "# Matrix addition\n",
    "matrix_addition_result = A + B\n",
    "\n",
    "print(\"\\nMatrix Addition Result:\")\n",
    "print(matrix_addition_result)\n"
   ]
  },
  {
   "cell_type": "code",
   "execution_count": 14,
   "id": "808c805d",
   "metadata": {},
   "outputs": [
    {
     "name": "stdout",
     "output_type": "stream",
     "text": [
      "\n",
      "Matrix Subtraction Result:\n",
      "[[0 0 0 0]\n",
      " [0 0 0 0]\n",
      " [0 0 0 0]]\n"
     ]
    }
   ],
   "source": [
    "#Matrix Subtraction (Subtract Matrix B from A):\n",
    "# Matrix subtraction\n",
    "matrix_subtraction_result = A - B\n",
    "\n",
    "print(\"\\nMatrix Subtraction Result:\")\n",
    "print(matrix_subtraction_result)\n"
   ]
  },
  {
   "cell_type": "code",
   "execution_count": 15,
   "id": "230cb4a1",
   "metadata": {},
   "outputs": [
    {
     "name": "stdout",
     "output_type": "stream",
     "text": [
      "\n",
      "Matrix Division Result:\n",
      "[[1. 1. 1. 1.]\n",
      " [1. 1. 1. 1.]\n",
      " [1. 1. 1. 1.]]\n"
     ]
    }
   ],
   "source": [
    "#Matrix Division (Element-wise Division of Matrix B by A):\n",
    "# Matrix division (element-wise division)\n",
    "matrix_division_result = B / A\n",
    "\n",
    "print(\"\\nMatrix Division Result:\")\n",
    "print(matrix_division_result)\n"
   ]
  },
  {
   "cell_type": "markdown",
   "id": "142bf69b",
   "metadata": {},
   "source": [
    "12. Which function in Numpy can be use^ to swap the byte order of an array?"
   ]
  },
  {
   "cell_type": "code",
   "execution_count": 16,
   "id": "a4439fed",
   "metadata": {},
   "outputs": [
    {
     "name": "stdout",
     "output_type": "stream",
     "text": [
      "Original Array:\n",
      "[1 2 3 4]\n",
      "\n",
      "Swapped Array:\n",
      "[ 256  512  768 1024]\n"
     ]
    }
   ],
   "source": [
    "import numpy as np\n",
    "\n",
    "# Create a sample array with 16-bit integers\n",
    "original_array = np.array([1, 2, 3, 4], dtype=np.int16)\n",
    "\n",
    "# Swap the byte order of the array\n",
    "swapped_array = original_array.byteswap()\n",
    "\n",
    "# Print the original and swapped arrays\n",
    "print(\"Original Array:\")\n",
    "print(original_array)\n",
    "\n",
    "print(\"\\nSwapped Array:\")\n",
    "print(swapped_array)\n"
   ]
  },
  {
   "cell_type": "markdown",
   "id": "6dd2f054",
   "metadata": {},
   "source": [
    "13. What is the significance of the np.linalg.inv function?"
   ]
  },
  {
   "cell_type": "code",
   "execution_count": 17,
   "id": "29c75457",
   "metadata": {},
   "outputs": [
    {
     "name": "stdout",
     "output_type": "stream",
     "text": [
      "Original Matrix A:\n",
      "[[1 2]\n",
      " [3 4]]\n",
      "\n",
      "Inverse of Matrix A:\n",
      "[[-2.   1. ]\n",
      " [ 1.5 -0.5]]\n"
     ]
    }
   ],
   "source": [
    "'''The np.linalg.inv function in NumPy is used to compute the inverse of a square matrix.The inverse of a matrix is another matrix that, when multiplied with the original matrix, gives the identity matrix. In mathematical terms\n",
    "'''\n",
    "import numpy as np\n",
    "\n",
    "# Create a square matrix A\n",
    "A = np.array([[1, 2], [3, 4]])\n",
    "\n",
    "# Compute the inverse of A\n",
    "A_inv = np.linalg.inv(A)\n",
    "\n",
    "print(\"Original Matrix A:\")\n",
    "print(A)\n",
    "\n",
    "print(\"\\nInverse of Matrix A:\")\n",
    "print(A_inv)\n"
   ]
  },
  {
   "cell_type": "markdown",
   "id": "f0db5127",
   "metadata": {},
   "source": [
    "14. What ^oes the np.reshape function ^o, an^ how is it use^?"
   ]
  },
  {
   "cell_type": "code",
   "execution_count": 18,
   "id": "cbd29848",
   "metadata": {},
   "outputs": [
    {
     "name": "stdout",
     "output_type": "stream",
     "text": [
      "Original 1D array:\n",
      "[1 2 3 4 5 6]\n",
      "\n",
      "Reshaped 2D array:\n",
      "[[1 2 3]\n",
      " [4 5 6]]\n",
      "\n",
      "Original 2D array:\n",
      "[[1 2 3]\n",
      " [4 5 6]]\n",
      "\n",
      "Reshaped 1D array:\n",
      "[1 2 3 4 5 6]\n"
     ]
    }
   ],
   "source": [
    "import numpy as np\n",
    "\n",
    "# Example 1: Reshaping a 1D array to a 2D array\n",
    "arr1d = np.array([1, 2, 3, 4, 5, 6])\n",
    "arr2d = np.reshape(arr1d, (2, 3))\n",
    "\n",
    "print(\"Original 1D array:\")\n",
    "print(arr1d)\n",
    "\n",
    "print(\"\\nReshaped 2D array:\")\n",
    "print(arr2d)\n",
    "\n",
    "# Example 2: Reshaping a 2D array to a 1D array\n",
    "arr2d = np.array([[1, 2, 3], [4, 5, 6]])\n",
    "arr1d = np.reshape(arr2d, (6,))\n",
    "\n",
    "print(\"\\nOriginal 2D array:\")\n",
    "print(arr2d)\n",
    "\n",
    "print(\"\\nReshaped 1D array:\")\n",
    "print(arr1d)\n"
   ]
  },
  {
   "cell_type": "markdown",
   "id": "d887c1bc",
   "metadata": {},
   "source": [
    "15. What is broa^casting in Numpy?"
   ]
  },
  {
   "cell_type": "code",
   "execution_count": 19,
   "id": "9e407d86",
   "metadata": {},
   "outputs": [
    {
     "name": "stdout",
     "output_type": "stream",
     "text": [
      "Result of broadcasting a scalar:\n",
      "[ 5 10 15 20]\n",
      "\n",
      "Result of broadcasting between two arrays:\n",
      "[[11 22 33]\n",
      " [14 25 36]]\n"
     ]
    }
   ],
   "source": [
    "import numpy as np\n",
    "\n",
    "# Example 1: Broadcasting a scalar to an array\n",
    "scalar_value = 5\n",
    "array = np.array([1, 2, 3, 4])\n",
    "\n",
    "result = scalar_value * array  # The scalar is broadcasted to match the shape of the array\n",
    "\n",
    "print(\"Result of broadcasting a scalar:\")\n",
    "print(result)\n",
    "\n",
    "# Example 2: Broadcasting between two arrays\n",
    "array_a = np.array([[1, 2, 3], [4, 5, 6]])\n",
    "array_b = np.array([10, 20, 30])\n",
    "\n",
    "result = array_a + array_b  # The 1D array is broadcasted to match the shape of the 2D array\n",
    "\n",
    "print(\"\\nResult of broadcasting between two arrays:\")\n",
    "print(result)\n"
   ]
  },
  {
   "cell_type": "code",
   "execution_count": null,
   "id": "033de9c3",
   "metadata": {},
   "outputs": [],
   "source": []
  }
 ],
 "metadata": {
  "kernelspec": {
   "display_name": "Python 3 (ipykernel)",
   "language": "python",
   "name": "python3"
  },
  "language_info": {
   "codemirror_mode": {
    "name": "ipython",
    "version": 3
   },
   "file_extension": ".py",
   "mimetype": "text/x-python",
   "name": "python",
   "nbconvert_exporter": "python",
   "pygments_lexer": "ipython3",
   "version": "3.11.5"
  }
 },
 "nbformat": 4,
 "nbformat_minor": 5
}
